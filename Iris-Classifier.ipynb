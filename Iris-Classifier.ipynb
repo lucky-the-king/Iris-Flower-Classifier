{
 "cells": [
  {
   "cell_type": "markdown",
   "metadata": {},
   "source": [
    "<b><h1>First, import all required libraries.</h1></b>"
   ]
  },
  {
   "cell_type": "code",
   "execution_count": 1,
   "metadata": {},
   "outputs": [],
   "source": [
    "from __future__ import absolute_import\n",
    "from __future__ import division\n",
    "from __future__ import print_function\n",
    "\n",
    "import os\n",
    "import urllib\n",
    "import tensorflow as tf\n",
    "import numpy as np"
   ]
  },
  {
   "cell_type": "markdown",
   "metadata": {},
   "source": [
    "<b><h1>Download training and testing data if not available locally.</h1></b>"
   ]
  },
  {
   "cell_type": "code",
   "execution_count": 2,
   "metadata": {},
   "outputs": [
    {
     "name": "stdout",
     "output_type": "stream",
     "text": [
      "Downloading training set...\n",
      "\n",
      "Downloading testing set...\n",
      "\n"
     ]
    }
   ],
   "source": [
    "TRAINING = \"training.csv\"\n",
    "TEST = \"test.csv\"\n",
    "TRAINING_URL = \"http://download.tensorflow.org/data/iris_training.csv\"\n",
    "TEST_URL = \"http://download.tensorflow.org/data/iris_test.csv\"\n",
    "\n",
    "if not os.path.exists(TRAINING):\n",
    "    print(\"Downloading training set...\\n\")\n",
    "    data = urllib.request.urlopen(TRAINING_URL).read()\n",
    "    with open(TRAINING, 'wb') as trainingfile:\n",
    "        trainingfile.write(data)\n",
    "else:\n",
    "    print(\"Training set found\\n\")\n",
    "\n",
    "if not os.path.exists(TEST):\n",
    "    print(\"Downloading testing set...\\n\")\n",
    "    data = urllib.request.urlopen(TEST_URL).read()\n",
    "    with open(TEST, 'wb') as testfile:\n",
    "        testfile.write(data)\n",
    "else:\n",
    "    print(\"Testing set found\\n\")"
   ]
  },
  {
   "cell_type": "markdown",
   "metadata": {},
   "source": [
    "<b><h1>Load datasets into variables</h1></b>"
   ]
  },
  {
   "cell_type": "code",
   "execution_count": 3,
   "metadata": {},
   "outputs": [
    {
     "name": "stdout",
     "output_type": "stream",
     "text": [
      "\n",
      "WARNING: The TensorFlow contrib module will not be included in TensorFlow 2.0.\n",
      "For more information, please see:\n",
      "  * https://github.com/tensorflow/community/blob/master/rfcs/20180907-contrib-sunset.md\n",
      "  * https://github.com/tensorflow/addons\n",
      "If you depend on functionality not listed there, please file an issue.\n",
      "\n",
      "WARNING:tensorflow:From <ipython-input-3-1e62b825be65>:4: load_csv_with_header (from tensorflow.contrib.learn.python.learn.datasets.base) is deprecated and will be removed in a future version.\n",
      "Instructions for updating:\n",
      "Use tf.data instead.\n"
     ]
    }
   ],
   "source": [
    "training_set = tf.contrib.learn.datasets.base.load_csv_with_header(\n",
    "    filename = TRAINING,\n",
    "    target_dtype = np.int,\n",
    "    features_dtype = np.float32)\n",
    "\n",
    "test_set = tf.contrib.learn.datasets.base.load_csv_with_header(\n",
    "    filename = TEST,\n",
    "    target_dtype = np.int,\n",
    "    features_dtype = np.float32)"
   ]
  },
  {
   "cell_type": "markdown",
   "metadata": {},
   "source": [
    "<b><h1>Construct neural net with appropriate hidden units and save it in current directory</h1></b>"
   ]
  },
  {
   "cell_type": "code",
   "execution_count": 4,
   "metadata": {},
   "outputs": [
    {
     "name": "stdout",
     "output_type": "stream",
     "text": [
      "INFO:tensorflow:Using default config.\n",
      "INFO:tensorflow:Using config: {'_model_dir': 'tmp/iris_model', '_tf_random_seed': None, '_save_summary_steps': 100, '_save_checkpoints_steps': None, '_save_checkpoints_secs': 600, '_session_config': allow_soft_placement: true\n",
      "graph_options {\n",
      "  rewrite_options {\n",
      "    meta_optimizer_iterations: ONE\n",
      "  }\n",
      "}\n",
      ", '_keep_checkpoint_max': 5, '_keep_checkpoint_every_n_hours': 10000, '_log_step_count_steps': 100, '_train_distribute': None, '_device_fn': None, '_protocol': None, '_eval_distribute': None, '_experimental_distribute': None, '_service': None, '_cluster_spec': <tensorflow.python.training.server_lib.ClusterSpec object at 0x0000012FE24684A8>, '_task_type': 'worker', '_task_id': 0, '_global_id_in_cluster': 0, '_master': '', '_evaluation_master': '', '_is_chief': True, '_num_ps_replicas': 0, '_num_worker_replicas': 1}\n"
     ]
    }
   ],
   "source": [
    "feature_columns = [tf.feature_column.numeric_column(\"x\", shape=[4])]\n",
    "classifier = tf.estimator.DNNClassifier(\n",
    "    feature_columns = feature_columns,\n",
    "    hidden_units = [10, 20, 30],\n",
    "    n_classes = 3,\n",
    "    model_dir = \"tmp/iris_model\")"
   ]
  },
  {
   "cell_type": "markdown",
   "metadata": {},
   "source": [
    "<b><h1>Define training inputs and train classifier</h1></b>"
   ]
  },
  {
   "cell_type": "code",
   "execution_count": 5,
   "metadata": {},
   "outputs": [
    {
     "name": "stdout",
     "output_type": "stream",
     "text": [
      "Training classifier...\n",
      "\n",
      "WARNING:tensorflow:From c:\\users\\raghav\\appdata\\local\\programs\\python\\python37\\lib\\site-packages\\tensorflow\\python\\framework\\op_def_library.py:263: colocate_with (from tensorflow.python.framework.ops) is deprecated and will be removed in a future version.\n",
      "Instructions for updating:\n",
      "Colocations handled automatically by placer.\n",
      "WARNING:tensorflow:From c:\\users\\raghav\\appdata\\local\\programs\\python\\python37\\lib\\site-packages\\tensorflow_estimator\\python\\estimator\\inputs\\queues\\feeding_queue_runner.py:62: QueueRunner.__init__ (from tensorflow.python.training.queue_runner_impl) is deprecated and will be removed in a future version.\n",
      "Instructions for updating:\n",
      "To construct input pipelines, use the `tf.data` module.\n",
      "WARNING:tensorflow:From c:\\users\\raghav\\appdata\\local\\programs\\python\\python37\\lib\\site-packages\\tensorflow_estimator\\python\\estimator\\inputs\\queues\\feeding_functions.py:500: add_queue_runner (from tensorflow.python.training.queue_runner_impl) is deprecated and will be removed in a future version.\n",
      "Instructions for updating:\n",
      "To construct input pipelines, use the `tf.data` module.\n",
      "INFO:tensorflow:Calling model_fn.\n",
      "WARNING:tensorflow:From c:\\users\\raghav\\appdata\\local\\programs\\python\\python37\\lib\\site-packages\\tensorflow\\python\\feature_column\\feature_column_v2.py:2703: to_float (from tensorflow.python.ops.math_ops) is deprecated and will be removed in a future version.\n",
      "Instructions for updating:\n",
      "Use tf.cast instead.\n",
      "INFO:tensorflow:Done calling model_fn.\n",
      "INFO:tensorflow:Create CheckpointSaverHook.\n",
      "INFO:tensorflow:Graph was finalized.\n",
      "INFO:tensorflow:Running local_init_op.\n",
      "INFO:tensorflow:Done running local_init_op.\n",
      "WARNING:tensorflow:From c:\\users\\raghav\\appdata\\local\\programs\\python\\python37\\lib\\site-packages\\tensorflow\\python\\training\\monitored_session.py:809: start_queue_runners (from tensorflow.python.training.queue_runner_impl) is deprecated and will be removed in a future version.\n",
      "Instructions for updating:\n",
      "To construct input pipelines, use the `tf.data` module.\n",
      "INFO:tensorflow:Saving checkpoints for 0 into tmp/iris_model\\model.ckpt.\n",
      "INFO:tensorflow:loss = 149.94824, step = 1\n",
      "INFO:tensorflow:global_step/sec: 366.755\n",
      "INFO:tensorflow:loss = 17.403706, step = 101 (0.273 sec)\n",
      "INFO:tensorflow:global_step/sec: 489.732\n",
      "INFO:tensorflow:loss = 7.1379128, step = 201 (0.206 sec)\n",
      "INFO:tensorflow:global_step/sec: 528.697\n",
      "INFO:tensorflow:loss = 9.032585, step = 301 (0.188 sec)\n",
      "INFO:tensorflow:global_step/sec: 474.279\n",
      "INFO:tensorflow:loss = 5.0815744, step = 401 (0.214 sec)\n",
      "INFO:tensorflow:global_step/sec: 494.236\n",
      "INFO:tensorflow:loss = 9.494809, step = 501 (0.197 sec)\n",
      "INFO:tensorflow:global_step/sec: 482.549\n",
      "INFO:tensorflow:loss = 7.2169886, step = 601 (0.208 sec)\n",
      "INFO:tensorflow:global_step/sec: 483.005\n",
      "INFO:tensorflow:loss = 8.114925, step = 701 (0.211 sec)\n",
      "INFO:tensorflow:global_step/sec: 479.262\n",
      "INFO:tensorflow:loss = 11.877249, step = 801 (0.206 sec)\n",
      "INFO:tensorflow:global_step/sec: 506.614\n",
      "INFO:tensorflow:loss = 10.975559, step = 901 (0.201 sec)\n",
      "INFO:tensorflow:global_step/sec: 513.404\n",
      "INFO:tensorflow:loss = 6.023244, step = 1001 (0.192 sec)\n",
      "INFO:tensorflow:global_step/sec: 371.335\n",
      "INFO:tensorflow:loss = 10.575253, step = 1101 (0.271 sec)\n",
      "INFO:tensorflow:global_step/sec: 455.16\n",
      "INFO:tensorflow:loss = 6.491456, step = 1201 (0.219 sec)\n",
      "INFO:tensorflow:global_step/sec: 501.653\n",
      "INFO:tensorflow:loss = 9.189861, step = 1301 (0.201 sec)\n",
      "INFO:tensorflow:global_step/sec: 487.131\n",
      "INFO:tensorflow:loss = 8.598954, step = 1401 (0.208 sec)\n",
      "INFO:tensorflow:global_step/sec: 480.449\n",
      "INFO:tensorflow:loss = 6.1768146, step = 1501 (0.204 sec)\n",
      "INFO:tensorflow:global_step/sec: 490.876\n",
      "INFO:tensorflow:loss = 4.5514803, step = 1601 (0.202 sec)\n",
      "INFO:tensorflow:global_step/sec: 528.688\n",
      "INFO:tensorflow:loss = 3.373553, step = 1701 (0.189 sec)\n",
      "INFO:tensorflow:global_step/sec: 462.361\n",
      "INFO:tensorflow:loss = 4.386075, step = 1801 (0.214 sec)\n",
      "INFO:tensorflow:global_step/sec: 489.409\n",
      "INFO:tensorflow:loss = 3.983171, step = 1901 (0.204 sec)\n",
      "INFO:tensorflow:global_step/sec: 401.317\n",
      "INFO:tensorflow:loss = 9.422875, step = 2001 (0.251 sec)\n",
      "INFO:tensorflow:global_step/sec: 343.521\n",
      "INFO:tensorflow:loss = 4.8371024, step = 2101 (0.294 sec)\n",
      "INFO:tensorflow:global_step/sec: 323.183\n",
      "INFO:tensorflow:loss = 6.394162, step = 2201 (0.307 sec)\n",
      "INFO:tensorflow:global_step/sec: 345.136\n",
      "INFO:tensorflow:loss = 6.7169914, step = 2301 (0.293 sec)\n",
      "INFO:tensorflow:global_step/sec: 346.603\n",
      "INFO:tensorflow:loss = 5.6608677, step = 2401 (0.284 sec)\n",
      "INFO:tensorflow:Saving checkpoints for 2500 into tmp/iris_model\\model.ckpt.\n",
      "INFO:tensorflow:Loss for final step: 4.8244863.\n"
     ]
    },
    {
     "data": {
      "text/plain": [
       "<tensorflow_estimator.python.estimator.canned.dnn.DNNClassifier at 0x12fe08984e0>"
      ]
     },
     "execution_count": 5,
     "metadata": {},
     "output_type": "execute_result"
    }
   ],
   "source": [
    "train_inputs = tf.estimator.inputs.numpy_input_fn(\n",
    "    x = {\"x\": np.array(training_set.data)},\n",
    "    y = np.array(training_set.target),\n",
    "    num_epochs = None,\n",
    "    shuffle = True)\n",
    "\n",
    "print(\"Training classifier...\\n\")\n",
    "\n",
    "classifier.train(\n",
    "    input_fn = train_inputs,\n",
    "    steps = 2500)"
   ]
  },
  {
   "cell_type": "markdown",
   "metadata": {},
   "source": [
    "<b><h1>Define test inputs and test classifier</h1></b>"
   ]
  },
  {
   "cell_type": "code",
   "execution_count": 6,
   "metadata": {},
   "outputs": [
    {
     "name": "stdout",
     "output_type": "stream",
     "text": [
      "INFO:tensorflow:Calling model_fn.\n",
      "INFO:tensorflow:Done calling model_fn.\n",
      "INFO:tensorflow:Starting evaluation at 2019-08-02T16:35:44Z\n",
      "INFO:tensorflow:Graph was finalized.\n",
      "WARNING:tensorflow:From c:\\users\\raghav\\appdata\\local\\programs\\python\\python37\\lib\\site-packages\\tensorflow\\python\\training\\saver.py:1266: checkpoint_exists (from tensorflow.python.training.checkpoint_management) is deprecated and will be removed in a future version.\n",
      "Instructions for updating:\n",
      "Use standard file APIs to check for files with this prefix.\n",
      "INFO:tensorflow:Restoring parameters from tmp/iris_model\\model.ckpt-2500\n",
      "INFO:tensorflow:Running local_init_op.\n",
      "INFO:tensorflow:Done running local_init_op.\n",
      "INFO:tensorflow:Finished evaluation at 2019-08-02-16:35:45\n",
      "INFO:tensorflow:Saving dict for global step 2500: accuracy = 0.96666664, average_loss = 0.056970417, global_step = 2500, loss = 1.7091125\n",
      "INFO:tensorflow:Saving 'checkpoint_path' summary for global step 2500: tmp/iris_model\\model.ckpt-2500\n",
      "\n",
      "Test Accuracy = 96.666664%\n",
      "\n"
     ]
    }
   ],
   "source": [
    "test_inputs = tf.estimator.inputs.numpy_input_fn(\n",
    "    x = {\"x\": np.array(test_set.data)},\n",
    "    y = np.array(test_set.target),\n",
    "    num_epochs = 1,\n",
    "    shuffle = True)\n",
    "\n",
    "accuracy_score = classifier.evaluate( input_fn = test_inputs)[\"accuracy\"]\n",
    "\n",
    "print(\"\\nTest Accuracy = {0:f}%\\n\".format(accuracy_score * 100))\n"
   ]
  },
  {
   "cell_type": "code",
   "execution_count": null,
   "metadata": {},
   "outputs": [],
   "source": []
  }
 ],
 "metadata": {
  "kernelspec": {
   "display_name": "Python 3",
   "language": "python",
   "name": "python3"
  },
  "language_info": {
   "codemirror_mode": {
    "name": "ipython",
    "version": 3
   },
   "file_extension": ".py",
   "mimetype": "text/x-python",
   "name": "python",
   "nbconvert_exporter": "python",
   "pygments_lexer": "ipython3",
   "version": "3.7.3"
  }
 },
 "nbformat": 4,
 "nbformat_minor": 2
}
